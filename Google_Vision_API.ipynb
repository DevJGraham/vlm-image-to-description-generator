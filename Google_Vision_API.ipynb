{
  "nbformat": 4,
  "nbformat_minor": 0,
  "metadata": {
    "colab": {
      "provenance": [],
      "authorship_tag": "ABX9TyPgM/bI2qbY5/rgwPEn0FYQ",
      "include_colab_link": true
    },
    "kernelspec": {
      "name": "python3",
      "display_name": "Python 3"
    },
    "language_info": {
      "name": "python"
    }
  },
  "cells": [
    {
      "cell_type": "markdown",
      "metadata": {
        "id": "view-in-github",
        "colab_type": "text"
      },
      "source": [
        "<a href=\"https://colab.research.google.com/github/DevJGraham/vlm-image-to-description-generator/blob/main/Google_Vision_API.ipynb\" target=\"_parent\"><img src=\"https://colab.research.google.com/assets/colab-badge.svg\" alt=\"Open In Colab\"/></a>"
      ]
    },
    {
      "cell_type": "code",
      "source": [
        "from google.colab import drive"
      ],
      "metadata": {
        "id": "EspJRrDqJRhS"
      },
      "execution_count": 1,
      "outputs": []
    },
    {
      "cell_type": "code",
      "source": [
        "drive.mount('/content/drive')"
      ],
      "metadata": {
        "colab": {
          "base_uri": "https://localhost:8080/"
        },
        "id": "650BiWiHJT5I",
        "outputId": "46f40cb2-f3f7-4899-83e6-8638f3a9237b"
      },
      "execution_count": 2,
      "outputs": [
        {
          "output_type": "stream",
          "name": "stdout",
          "text": [
            "Mounted at /content/drive\n"
          ]
        }
      ]
    },
    {
      "cell_type": "code",
      "source": [
        "# So that the output is not captured for Github\n",
        "%%capture --no-stderr\n",
        "\n",
        "cd drive/MyDrive/CS/WGU/Computer\\ Science\\ Capstone\\ -\\ C964"
      ],
      "metadata": {
        "id": "41lbr5tzJaTD"
      },
      "execution_count": 25,
      "outputs": []
    },
    {
      "cell_type": "markdown",
      "source": [
        "# Google Vision API"
      ],
      "metadata": {
        "id": "U2Ze_psLRlzw"
      }
    },
    {
      "cell_type": "code",
      "execution_count": 4,
      "metadata": {
        "colab": {
          "base_uri": "https://localhost:8080/"
        },
        "id": "1hENzoOERfHA",
        "outputId": "c3ebdae4-d27a-42a5-df81-c5b7aa68474a"
      },
      "outputs": [
        {
          "output_type": "stream",
          "name": "stdout",
          "text": [
            "\u001b[2K   \u001b[90m━━━━━━━━━━━━━━━━━━━━━━━━━━━━━━━━━━━━━━━━\u001b[0m \u001b[32m527.9/527.9 kB\u001b[0m \u001b[31m7.6 MB/s\u001b[0m eta \u001b[36m0:00:00\u001b[0m\n",
            "\u001b[2K   \u001b[90m━━━━━━━━━━━━━━━━━━━━━━━━━━━━━━━━━━━━━━━━\u001b[0m \u001b[32m216.1/216.1 kB\u001b[0m \u001b[31m10.9 MB/s\u001b[0m eta \u001b[36m0:00:00\u001b[0m\n",
            "\u001b[?25h\u001b[31mERROR: pip's dependency resolver does not currently take into account all the packages that are installed. This behaviour is the source of the following dependency conflicts.\n",
            "google-colab 1.0.0 requires google-auth==2.38.0, but you have google-auth 2.40.3 which is incompatible.\u001b[0m\u001b[31m\n",
            "\u001b[0m"
          ]
        }
      ],
      "source": [
        "!pip install -U google-cloud-vision google-auth google-auth-oauthlib -q"
      ]
    },
    {
      "cell_type": "code",
      "source": [
        "# Sign in to Google so the Cloud SDK in this VM can act as your user\n",
        "from google.colab import auth\n",
        "auth.authenticate_user()"
      ],
      "metadata": {
        "id": "G8i0nI6xRv3l"
      },
      "execution_count": 5,
      "outputs": []
    },
    {
      "cell_type": "code",
      "source": [
        "# Point the CLI at the correct project\n",
        "!gcloud config set project ocr-test-graham"
      ],
      "metadata": {
        "colab": {
          "base_uri": "https://localhost:8080/"
        },
        "id": "rIfDCPXcUXEA",
        "outputId": "749b128a-8cdc-40de-de64-a7037d2712fb"
      },
      "execution_count": 6,
      "outputs": [
        {
          "output_type": "stream",
          "name": "stdout",
          "text": [
            "Updated property [core/project].\n"
          ]
        }
      ]
    },
    {
      "cell_type": "code",
      "source": [
        "# Log in to my Google account and get back an authorization code which then the CLI exchanges for a short-term access token, and a log-term refresh token that can refressh the access token when it expires\n",
        "!gcloud auth application-default login"
      ],
      "metadata": {
        "id": "LeAQ7oTkUi9o"
      },
      "execution_count": 21,
      "outputs": []
    },
    {
      "cell_type": "code",
      "source": [
        "# So that the output is not captured for Github\n",
        "%%capture --no-stderr\n",
        "\n",
        "# Attach a quota/billing project to those user ADC credentials\n",
        "!gcloud auth application-default set-quota-project ocr-test-graham\n",
        "\n",
        "# Enable Vision API for the active CLI project\n",
        "!gcloud services enable vision.googleapis.com"
      ],
      "metadata": {
        "id": "Yo59BF3sUmHa"
      },
      "execution_count": 22,
      "outputs": []
    },
    {
      "cell_type": "code",
      "source": [
        "# Ensures the primary environment variable is unset so that the CLI will use the ADC instead of the primary env\n",
        "# This ensures Python libs will actually use ADC (not a hard-coded service account key)\n",
        "\n",
        "import os\n",
        "print(\"GOOGLE_APPLICATION_CREDENTIALS set?\", \"GOOGLE_APPLICATION_CREDENTIALS\" in os.environ)\n",
        "os.environ.pop(\"GOOGLE_APPLICATION_CREDENTIALS\", None)"
      ],
      "metadata": {
        "colab": {
          "base_uri": "https://localhost:8080/"
        },
        "id": "g9foeV8qU1wb",
        "outputId": "27f452bb-8608-4f82-ad3d-5bc694c137dd"
      },
      "execution_count": 9,
      "outputs": [
        {
          "output_type": "stream",
          "name": "stdout",
          "text": [
            "GOOGLE_APPLICATION_CREDENTIALS set? False\n"
          ]
        }
      ]
    },
    {
      "cell_type": "code",
      "source": [
        "# So that the output is not captured for Github\n",
        "%%capture --no-stderr\n",
        "\n",
        "# Prints the active project and the account for the CLI to verify that the previous steps worked\n",
        "!gcloud config list"
      ],
      "metadata": {
        "id": "bldOUDQ9U5wN"
      },
      "execution_count": 23,
      "outputs": []
    },
    {
      "cell_type": "code",
      "source": [
        "# So that the output is not captured for Github\n",
        "%%capture --no-stderr\n",
        "\n",
        "import google.auth\n",
        "\n",
        "# Fetches the default credentials and the project that the client will use\n",
        "creds, proj = google.auth.default()\n",
        "print(\"ADC project seen by client:\", proj) # proj should be the project that we are working with"
      ],
      "metadata": {
        "id": "_FfStZ7HU71s"
      },
      "execution_count": 24,
      "outputs": []
    },
    {
      "cell_type": "code",
      "source": [
        "from google.cloud import vision"
      ],
      "metadata": {
        "id": "5z0iX12EdD27"
      },
      "execution_count": 12,
      "outputs": []
    },
    {
      "cell_type": "code",
      "source": [
        "client = vision.ImageAnnotatorClient()\n",
        "\n",
        "# Read image as a byte file\n",
        "with open(\"Images/ryobi.png\", \"rb\") as f:\n",
        "    content = f.read()\n",
        "\n",
        "# Pass in a byte file image to Vision.Image creating a client image on which the vision API tasks can be performed\n",
        "image = vision.Image(content=content)\n",
        "\n",
        "text = client.text_detection(image=image) # Extracts text from the image\n",
        "label = client.label_detection(image=image) # labels the items in the image\n",
        "print(\"Text error message:\", text.error.message)\n",
        "print(\"Label error message:\", label.error.message)"
      ],
      "metadata": {
        "colab": {
          "base_uri": "https://localhost:8080/"
        },
        "id": "QWGiqjpIVDFP",
        "outputId": "ec7d04f7-50a3-4ad3-82be-472d1bd217c1"
      },
      "execution_count": 13,
      "outputs": [
        {
          "output_type": "stream",
          "name": "stdout",
          "text": [
            "Text error message: \n",
            "Label error message: \n"
          ]
        }
      ]
    },
    {
      "cell_type": "code",
      "source": [
        "# Get all of the individual texts from the text_annotations\n",
        "texts = []\n",
        "for t in text.text_annotations[1:]:\n",
        "  if t.description not in texts:\n",
        "    texts.append(t.description)\n",
        "\n",
        "texts"
      ],
      "metadata": {
        "colab": {
          "base_uri": "https://localhost:8080/"
        },
        "id": "RpMsaID7YapK",
        "outputId": "51369769-69f9-4d4c-a22c-a3c10cd40344"
      },
      "execution_count": 14,
      "outputs": [
        {
          "output_type": "execute_result",
          "data": {
            "text/plain": [
              "['RYOBL', 'RYOBI', 'RYOJ', '45']"
            ]
          },
          "metadata": {},
          "execution_count": 14
        }
      ]
    },
    {
      "cell_type": "code",
      "source": [
        "# Get all of the individual labels from the label_annotations\n",
        "labels = []\n",
        "for l in label.label_annotations:\n",
        "  labels.append(l.description)\n",
        "\n",
        "labels"
      ],
      "metadata": {
        "colab": {
          "base_uri": "https://localhost:8080/"
        },
        "id": "mvxc3nVwV47h",
        "outputId": "75d54b71-71e7-419c-c82d-3b29dccb569d"
      },
      "execution_count": 15,
      "outputs": [
        {
          "output_type": "execute_result",
          "data": {
            "text/plain": [
              "['Machine',\n",
              " 'Saw',\n",
              " 'Power tool',\n",
              " 'Miter saw',\n",
              " 'Tool',\n",
              " 'Mitre saws',\n",
              " 'Circular saw',\n",
              " 'Plastic',\n",
              " 'Abrasive saw',\n",
              " 'Blade']"
            ]
          },
          "metadata": {},
          "execution_count": 15
        }
      ]
    },
    {
      "cell_type": "markdown",
      "source": [
        "# Run Cloud Vision API On Each Image\n",
        "> Take each image from GCS, extract text and vision for each image, return a list of dictionaries with this format\n",
        "\n",
        "| Auction | Item Number | Image Number | Text | Labels |\n",
        "|---------|-------------|--------------|------|--------|\n",
        "| 'Aypt2025-31' | 1 | 1 | ['Ryobi', 'Model NO: 1234', ...] | ['Tool', 'Drill', ... ] |"
      ],
      "metadata": {
        "id": "72Vd9dD37Qfh"
      }
    },
    {
      "cell_type": "code",
      "source": [
        "from google.cloud import storage"
      ],
      "metadata": {
        "id": "4ckER9pyekZh"
      },
      "execution_count": 16,
      "outputs": []
    },
    {
      "cell_type": "code",
      "source": [
        "storage_client = storage.Client()"
      ],
      "metadata": {
        "id": "K5mnc2G9eqDH"
      },
      "execution_count": 17,
      "outputs": []
    },
    {
      "cell_type": "code",
      "source": [
        "# # This is needed to access the Google Cloud Storage bucket\n",
        "# from google.colab import auth\n",
        "# auth.authenticate_user()"
      ],
      "metadata": {
        "id": "fYjIlKOtwiSd"
      },
      "execution_count": 4,
      "outputs": []
    },
    {
      "cell_type": "code",
      "source": [
        "bucket_name = \"auction-images-bucket\"\n",
        "\n",
        "# Get bucket reference\n",
        "bucket = storage_client.bucket(bucket_name)\n",
        "\n",
        "# List all blobs (files) in the bucket\n",
        "item_list = []\n",
        "for blob in bucket.list_blobs():\n",
        "    if blob.name.endswith('.jpg'):\n",
        "      print(f\"Processing: {blob.name}\")\n",
        "      # byte_data = blob.download_as_bytes()"
      ],
      "metadata": {
        "id": "yEzXtdepezY1"
      },
      "execution_count": null,
      "outputs": []
    },
    {
      "cell_type": "code",
      "source": [
        "def format_dict():\n",
        ""
      ],
      "metadata": {
        "id": "OK8VTHdjMycY"
      },
      "execution_count": null,
      "outputs": []
    },
    {
      "cell_type": "code",
      "source": [
        "def vision_cloud_api_call(image_bytes):\n",
        "  # Pass in a byte file image to Vision.Image creating a client image on which the vision API tasks can be performed\n",
        "  image = vision.Image(content=image_bytes)\n",
        "\n",
        "  extracted_text = client.text_detection(image=image) # Extracts text from the image\n",
        "  extracted_labels = client.label_detection(image=image) # labels the items in the image\n",
        "  if text.error.message:\n",
        "      print(\"Text error message:\", text.error.message)\n",
        "  if label.error.message:\n",
        "    print(\"Label error message:\", label.error.message)"
      ],
      "metadata": {
        "id": "FCCeZti0L4Dx"
      },
      "execution_count": 89,
      "outputs": []
    },
    {
      "cell_type": "code",
      "source": [
        "def get_texts(vision_text_output):\n",
        "  # Get all of the individual texts from the text_annotations\n",
        "  texts = []\n",
        "  for t in vision_text_output.text_annotations[1:]:\n",
        "    if t.description not in texts:\n",
        "      texts.append(t.description)\n",
        "\n",
        "  return texts\n",
        "\n",
        "def get_labels(vision_label_output):\n",
        "  # Get all of the individual labels from the label_annotations\n",
        "  labels = []\n",
        "  for l in vision_label_output.label_annotations:\n",
        "    labels.append(l.description)\n",
        "\n",
        "  return labels"
      ],
      "metadata": {
        "id": "ynNBORObFlOR"
      },
      "execution_count": 85,
      "outputs": []
    },
    {
      "cell_type": "code",
      "source": [
        "for blob in bucket.list_blobs():\n",
        "  if blob.name == 'aypt2025-31/10_1.jpg':\n",
        "    test_bytes = blob.download_as_bytes()"
      ],
      "metadata": {
        "id": "zdgZ_u1AEbi4"
      },
      "execution_count": 60,
      "outputs": []
    },
    {
      "cell_type": "code",
      "source": [
        "get_labels(example_label)"
      ],
      "metadata": {
        "colab": {
          "base_uri": "https://localhost:8080/"
        },
        "id": "K4BaJsx_HmNM",
        "outputId": "67c2e848-6d82-476b-a431-1a4ec3f2d3fb"
      },
      "execution_count": 86,
      "outputs": [
        {
          "output_type": "execute_result",
          "data": {
            "text/plain": [
              "[]"
            ]
          },
          "metadata": {},
          "execution_count": 86
        }
      ]
    },
    {
      "cell_type": "code",
      "source": [
        "get_texts(example_text)"
      ],
      "metadata": {
        "colab": {
          "base_uri": "https://localhost:8080/"
        },
        "id": "dw0sTE2fFcz6",
        "outputId": "a372cdf6-7f1f-415f-d040-f286f3744a16"
      },
      "execution_count": 84,
      "outputs": [
        {
          "output_type": "execute_result",
          "data": {
            "text/plain": [
              "['ARMSTRONG',\n",
              " 'RUT',\n",
              " 'GUARANTEE',\n",
              " 'TOOLS',\n",
              " 'ACTIN',\n",
              " 'et',\n",
              " 'th',\n",
              " 'AIR',\n",
              " 'TORK',\n",
              " 'ARE',\n",
              " 'B',\n",
              " 'THE',\n",
              " 'USA',\n",
              " 'FETIME',\n",
              " 'GUARANT',\n",
              " 'MOLEC',\n",
              " 'PA',\n",
              " 'E',\n",
              " 'woww',\n",
              " 'S',\n",
              " 'OOLS',\n",
              " 'ARMSTRING',\n",
              " 'MO']"
            ]
          },
          "metadata": {},
          "execution_count": 84
        }
      ]
    },
    {
      "cell_type": "code",
      "source": [
        "item_list[0]"
      ],
      "metadata": {
        "colab": {
          "base_uri": "https://localhost:8080/",
          "height": 35
        },
        "id": "d5mUsk5OEHFP",
        "outputId": "02b3de02-8fd8-413f-ec98-a5d40a3a19a6"
      },
      "execution_count": 52,
      "outputs": [
        {
          "output_type": "execute_result",
          "data": {
            "text/plain": [
              "'aypt2025-31/10_1.jpg'"
            ],
            "application/vnd.google.colaboratory.intrinsic+json": {
              "type": "string"
            }
          },
          "metadata": {},
          "execution_count": 52
        }
      ]
    },
    {
      "cell_type": "code",
      "source": [
        "from PIL import Image"
      ],
      "metadata": {
        "id": "tQcUtrPLEWx7"
      },
      "execution_count": 54,
      "outputs": []
    },
    {
      "cell_type": "code",
      "source": [
        "Image.open('aypt2025-31/10_1.jpg')"
      ],
      "metadata": {
        "colab": {
          "base_uri": "https://localhost:8080/",
          "height": 269
        },
        "id": "hUzUJDCjESgy",
        "outputId": "2d16fc75-aa9a-45a6-d604-f05f7c10d3d1"
      },
      "execution_count": 55,
      "outputs": [
        {
          "output_type": "error",
          "ename": "FileNotFoundError",
          "evalue": "[Errno 2] No such file or directory: 'aypt2025-31/10_1.jpg'",
          "traceback": [
            "\u001b[0;31m---------------------------------------------------------------------------\u001b[0m",
            "\u001b[0;31mFileNotFoundError\u001b[0m                         Traceback (most recent call last)",
            "\u001b[0;32m/tmp/ipython-input-2510886686.py\u001b[0m in \u001b[0;36m<cell line: 0>\u001b[0;34m()\u001b[0m\n\u001b[0;32m----> 1\u001b[0;31m \u001b[0mImage\u001b[0m\u001b[0;34m.\u001b[0m\u001b[0mopen\u001b[0m\u001b[0;34m(\u001b[0m\u001b[0;34m'aypt2025-31/10_1.jpg'\u001b[0m\u001b[0;34m)\u001b[0m\u001b[0;34m\u001b[0m\u001b[0;34m\u001b[0m\u001b[0m\n\u001b[0m",
            "\u001b[0;32m/usr/local/lib/python3.11/dist-packages/PIL/Image.py\u001b[0m in \u001b[0;36mopen\u001b[0;34m(fp, mode, formats)\u001b[0m\n\u001b[1;32m   3511\u001b[0m     \u001b[0;32mif\u001b[0m \u001b[0mis_path\u001b[0m\u001b[0;34m(\u001b[0m\u001b[0mfp\u001b[0m\u001b[0;34m)\u001b[0m\u001b[0;34m:\u001b[0m\u001b[0;34m\u001b[0m\u001b[0;34m\u001b[0m\u001b[0m\n\u001b[1;32m   3512\u001b[0m         \u001b[0mfilename\u001b[0m \u001b[0;34m=\u001b[0m \u001b[0mos\u001b[0m\u001b[0;34m.\u001b[0m\u001b[0mfspath\u001b[0m\u001b[0;34m(\u001b[0m\u001b[0mfp\u001b[0m\u001b[0;34m)\u001b[0m\u001b[0;34m\u001b[0m\u001b[0;34m\u001b[0m\u001b[0m\n\u001b[0;32m-> 3513\u001b[0;31m         \u001b[0mfp\u001b[0m \u001b[0;34m=\u001b[0m \u001b[0mbuiltins\u001b[0m\u001b[0;34m.\u001b[0m\u001b[0mopen\u001b[0m\u001b[0;34m(\u001b[0m\u001b[0mfilename\u001b[0m\u001b[0;34m,\u001b[0m \u001b[0;34m\"rb\"\u001b[0m\u001b[0;34m)\u001b[0m\u001b[0;34m\u001b[0m\u001b[0;34m\u001b[0m\u001b[0m\n\u001b[0m\u001b[1;32m   3514\u001b[0m         \u001b[0mexclusive_fp\u001b[0m \u001b[0;34m=\u001b[0m \u001b[0;32mTrue\u001b[0m\u001b[0;34m\u001b[0m\u001b[0;34m\u001b[0m\u001b[0m\n\u001b[1;32m   3515\u001b[0m     \u001b[0;32melse\u001b[0m\u001b[0;34m:\u001b[0m\u001b[0;34m\u001b[0m\u001b[0;34m\u001b[0m\u001b[0m\n",
            "\u001b[0;31mFileNotFoundError\u001b[0m: [Errno 2] No such file or directory: 'aypt2025-31/10_1.jpg'"
          ]
        }
      ]
    },
    {
      "cell_type": "code",
      "source": [
        "auction = 'aypt2025-31/'\n",
        "client = vision.ImageAnnotatorClient()\n",
        "\n",
        "def cloud_vision_text_labels(image_path, auction):\n",
        "  # Read image as a byte file\n",
        "  with open(image_path, \"rb\") as f:\n",
        "      content = f.read()\n",
        "\n",
        "  # Pass in a byte file image to Vision.Image creating a client image on which the vision API tasks can be performed\n",
        "  image = vision.Image(content=content)\n",
        "\n",
        "  text = client.text_detection(image=image) # Extracts text from the image\n",
        "  label = client.label_detection(image=image) # labels the items in the image\n",
        "  print(\"Text error message:\", text.error.message)\n",
        "  print(\"Label error message:\", label.error.message)\n",
        "  return text, label"
      ],
      "metadata": {
        "id": "qkEfPauwxY5I"
      },
      "execution_count": null,
      "outputs": []
    },
    {
      "cell_type": "code",
      "source": [
        "test = 'aypt2025-31/10_1.jpg'"
      ],
      "metadata": {
        "id": "fANcHR5dzAsF"
      },
      "execution_count": 10,
      "outputs": []
    },
    {
      "cell_type": "code",
      "source": [
        "auction = test[:test.find('/')]\n",
        "image_num = test[test.find('/') + 1:test.find('.jpg')]"
      ],
      "metadata": {
        "id": "1hvWssPCzFw0"
      },
      "execution_count": 15,
      "outputs": []
    },
    {
      "cell_type": "code",
      "source": [
        "print(auction)\n",
        "print(image_num)"
      ],
      "metadata": {
        "colab": {
          "base_uri": "https://localhost:8080/"
        },
        "id": "A5Vt1jsKzk4R",
        "outputId": "aac6a973-5782-48a4-f70e-7205e118d7b1"
      },
      "execution_count": 16,
      "outputs": [
        {
          "output_type": "stream",
          "name": "stdout",
          "text": [
            "aypt2025-31\n",
            "10_1\n"
          ]
        }
      ]
    },
    {
      "cell_type": "code",
      "source": [
        "test_list = [{'auction': auction, 'image_num': image_num, 'text': ['test_text1'], 'labels': ['test_labels1']},\n",
        "{'auction': 'aypt2025-31', 'image_num': '10_2', 'text': ['test_text2'], 'labels': ['test_labels2']},\n",
        "{'auction': 'aypt2025-31', 'image_num': '10_3', 'text': ['test_text3'], 'labels': ['test_labels3']}]"
      ],
      "metadata": {
        "id": "7_Dj1sJHy75Y"
      },
      "execution_count": 30,
      "outputs": []
    },
    {
      "cell_type": "code",
      "source": [
        "test_list"
      ],
      "metadata": {
        "colab": {
          "base_uri": "https://localhost:8080/"
        },
        "id": "RNeOIrju6FUW",
        "outputId": "b020b349-737b-4b1d-913e-330cbb647773"
      },
      "execution_count": 31,
      "outputs": [
        {
          "output_type": "execute_result",
          "data": {
            "text/plain": [
              "[{'auction': 'aypt2025-31',\n",
              "  'image_num': '10_1',\n",
              "  'text': ['test_text1'],\n",
              "  'labels': ['test_labels1']},\n",
              " {'auction': 'aypt2025-31',\n",
              "  'image_num': '10_2',\n",
              "  'text': ['test_text2'],\n",
              "  'labels': ['test_labels2']},\n",
              " {'auction': 'aypt2025-31',\n",
              "  'image_num': '10_3',\n",
              "  'text': ['test_text3'],\n",
              "  'labels': ['test_labels3']}]"
            ]
          },
          "metadata": {},
          "execution_count": 31
        }
      ]
    },
    {
      "cell_type": "code",
      "source": [
        "concatenated_list = []\n",
        "for img in test_list:\n",
        "  if img['image_num'][:img['image_num'].find('_')] == '10':\n",
        ""
      ],
      "metadata": {
        "colab": {
          "base_uri": "https://localhost:8080/"
        },
        "id": "VPbNl5hD0XeZ",
        "outputId": "c57adc70-60d1-432f-9806-d9d831d7eecb"
      },
      "execution_count": 29,
      "outputs": [
        {
          "output_type": "stream",
          "name": "stdout",
          "text": [
            "10\n",
            "10_1\n",
            "10\n",
            "10_2\n",
            "10\n",
            "10_3\n"
          ]
        }
      ]
    },
    {
      "cell_type": "code",
      "source": [],
      "metadata": {
        "id": "gu4SJMywxNvt"
      },
      "execution_count": null,
      "outputs": []
    }
  ]
}